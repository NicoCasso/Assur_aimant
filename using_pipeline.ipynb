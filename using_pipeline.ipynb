{
 "cells": [
  {
   "cell_type": "markdown",
   "metadata": {},
   "source": [
    "Comment utiliser le pipeline de sk learn"
   ]
  },
  {
   "cell_type": "code",
   "execution_count": 299,
   "metadata": {},
   "outputs": [
    {
     "data": {
      "text/html": [
       "<div>\n",
       "<style scoped>\n",
       "    .dataframe tbody tr th:only-of-type {\n",
       "        vertical-align: middle;\n",
       "    }\n",
       "\n",
       "    .dataframe tbody tr th {\n",
       "        vertical-align: top;\n",
       "    }\n",
       "\n",
       "    .dataframe thead th {\n",
       "        text-align: right;\n",
       "    }\n",
       "</style>\n",
       "<table border=\"1\" class=\"dataframe\">\n",
       "  <thead>\n",
       "    <tr style=\"text-align: right;\">\n",
       "      <th></th>\n",
       "      <th>age</th>\n",
       "      <th>sex</th>\n",
       "      <th>bmi</th>\n",
       "      <th>children</th>\n",
       "      <th>smoker</th>\n",
       "      <th>region</th>\n",
       "      <th>charges</th>\n",
       "    </tr>\n",
       "  </thead>\n",
       "  <tbody>\n",
       "    <tr>\n",
       "      <th>0</th>\n",
       "      <td>19</td>\n",
       "      <td>female</td>\n",
       "      <td>27.900</td>\n",
       "      <td>0</td>\n",
       "      <td>yes</td>\n",
       "      <td>southwest</td>\n",
       "      <td>16884.92400</td>\n",
       "    </tr>\n",
       "    <tr>\n",
       "      <th>1</th>\n",
       "      <td>18</td>\n",
       "      <td>male</td>\n",
       "      <td>33.770</td>\n",
       "      <td>1</td>\n",
       "      <td>no</td>\n",
       "      <td>southeast</td>\n",
       "      <td>1725.55230</td>\n",
       "    </tr>\n",
       "    <tr>\n",
       "      <th>2</th>\n",
       "      <td>28</td>\n",
       "      <td>male</td>\n",
       "      <td>33.000</td>\n",
       "      <td>3</td>\n",
       "      <td>no</td>\n",
       "      <td>southeast</td>\n",
       "      <td>4449.46200</td>\n",
       "    </tr>\n",
       "    <tr>\n",
       "      <th>3</th>\n",
       "      <td>33</td>\n",
       "      <td>male</td>\n",
       "      <td>22.705</td>\n",
       "      <td>0</td>\n",
       "      <td>no</td>\n",
       "      <td>northwest</td>\n",
       "      <td>21984.47061</td>\n",
       "    </tr>\n",
       "    <tr>\n",
       "      <th>4</th>\n",
       "      <td>32</td>\n",
       "      <td>male</td>\n",
       "      <td>28.880</td>\n",
       "      <td>0</td>\n",
       "      <td>no</td>\n",
       "      <td>northwest</td>\n",
       "      <td>3866.85520</td>\n",
       "    </tr>\n",
       "  </tbody>\n",
       "</table>\n",
       "</div>"
      ],
      "text/plain": [
       "   age     sex     bmi  children smoker     region      charges\n",
       "0   19  female  27.900         0    yes  southwest  16884.92400\n",
       "1   18    male  33.770         1     no  southeast   1725.55230\n",
       "2   28    male  33.000         3     no  southeast   4449.46200\n",
       "3   33    male  22.705         0     no  northwest  21984.47061\n",
       "4   32    male  28.880         0     no  northwest   3866.85520"
      ]
     },
     "execution_count": 299,
     "metadata": {},
     "output_type": "execute_result"
    }
   ],
   "source": [
    "from sklearn.model_selection import train_test_split\n",
    "\n",
    "from sklearn.pipeline import make_pipeline, make_union\n",
    "from sklearn.compose import make_column_transformer\n",
    "\n",
    "from sklearn.impute import SimpleImputer\n",
    "from sklearn.preprocessing import StandardScaler, RobustScaler, OrdinalEncoder, OneHotEncoder, Binarizer, PolynomialFeatures\n",
    "from sklearn.linear_model import LinearRegression, Ridge, Lasso\n",
    "\n",
    "import pandas as pd \n",
    "import numpy as np \n",
    "\n",
    "dataframe = pd.read_csv(\"dataset.csv\", sep=\",\", index_col=False)\n",
    "dataframe.head()"
   ]
  },
  {
   "cell_type": "code",
   "execution_count": 300,
   "metadata": {},
   "outputs": [],
   "source": [
    "#no age encoder\n",
    "sex_encoder = OrdinalEncoder(categories=[['female', 'male']])\n",
    "bmi_encoder = Binarizer(threshold=30, copy=False)\n",
    "#no children encoder\n",
    "smoker_encoder = OrdinalEncoder(categories=[['no', 'yes']])\n",
    "region_encoder = OneHotEncoder()\n",
    "\n",
    "#dataframe[[\"sex\"]]\n",
    "#sex_encoder.fit_transform(dataframe[[\"sex\"]])\n"
   ]
  },
  {
   "cell_type": "code",
   "execution_count": 301,
   "metadata": {},
   "outputs": [],
   "source": [
    "y = dataframe['charges']\n",
    "X = dataframe.drop('charges', axis=1)\n",
    "\n",
    "# pour pouvoir comparer le score\n",
    "X_train, X_test, y_train, y_test = train_test_split(X, y, shuffle=True, train_size=0.85, random_state=42, stratify=X['smoker'])\n"
   ]
  },
  {
   "cell_type": "code",
   "execution_count": 302,
   "metadata": {},
   "outputs": [],
   "source": [
    "age_pipeline = make_pipeline( StandardScaler())\n",
    "sex_pipeline = make_pipeline( sex_encoder)\n",
    "bmi_pipeline = make_pipeline( bmi_encoder)\n",
    "children_pipeline = make_pipeline( StandardScaler())\n",
    "smoker_pipeline = make_pipeline( smoker_encoder)\n",
    "region_pipeline = make_pipeline( region_encoder)"
   ]
  },
  {
   "cell_type": "code",
   "execution_count": 303,
   "metadata": {},
   "outputs": [],
   "source": [
    "first_pipeline = make_column_transformer(\n",
    "    (age_pipeline, ['age']),\n",
    "    (smoker_pipeline, ['smoker']),\n",
    "    (bmi_pipeline, ['bmi']))\n",
    "\n",
    "polynomial_pipeline = make_pipeline(first_pipeline, PolynomialFeatures(degree=2))\n",
    "\n",
    "preprocessor = make_column_transformer( \n",
    "    (polynomial_pipeline, ['age','smoker', 'bmi']),\n",
    "    (smoker_pipeline, ['smoker']),\n",
    "    (children_pipeline, ['children']),\n",
    "    (region_pipeline, ['region']))"
   ]
  },
  {
   "cell_type": "code",
   "execution_count": 304,
   "metadata": {},
   "outputs": [],
   "source": [
    "model = make_pipeline(preprocessor, Lasso(alpha=1))\n"
   ]
  },
  {
   "cell_type": "code",
   "execution_count": 305,
   "metadata": {},
   "outputs": [],
   "source": [
    "#import sklearn.model_selection as skl_mod_sel\n",
    "\n",
    "# grid = skl_mod_sel.GridSearchCV(\n",
    "#     model, \n",
    "#     param_grid = { 'polynomial_features_degree': [2, 3, 4] }, \n",
    "#     cv=4)\n",
    "\n",
    "# grid.fit(X_train, y_train)\n",
    "# grid.best_score_"
   ]
  },
  {
   "cell_type": "code",
   "execution_count": 306,
   "metadata": {},
   "outputs": [
    {
     "name": "stdout",
     "output_type": "stream",
     "text": [
      "  score  = 0.8711389003319432 \n"
     ]
    }
   ],
   "source": [
    "# import sklearn as skl\n",
    "# skl.set_config(enable_metadata_routing=True)\n",
    "\n",
    "model.fit(X_train, y_train)\n",
    "score = model.score(X_test, y_test)\n",
    "print(f\"  score  = {score} \")\n"
   ]
  },
  {
   "cell_type": "code",
   "execution_count": 307,
   "metadata": {},
   "outputs": [
    {
     "name": "stdout",
     "output_type": "stream",
     "text": [
      "r2_score = 0.8711389003319432 \n",
      "sklearn.metrics.mean_squared_error = 4343.584367373566\n"
     ]
    }
   ],
   "source": [
    "y_predicted = model.predict(X_test)\n",
    "\n",
    "import sklearn.metrics as skl_metrics\n",
    "\n",
    "rmse = skl_metrics.root_mean_squared_error(y_test, y_predicted)\n",
    "Rsquare = skl_metrics.r2_score(y_test, y_predicted)\n",
    "\n",
    "print(f\"r2_score = {Rsquare} \")\n",
    "print(f\"sklearn.metrics.mean_squared_error = {rmse}\")\n"
   ]
  },
  {
   "cell_type": "code",
   "execution_count": 308,
   "metadata": {},
   "outputs": [
    {
     "data": {
      "image/png": "[encoded data removed]",
      "text/plain": [
       "<Figure size 640x480 with 1 Axes>"
      ]
     },
     "metadata": {},
     "output_type": "display_data"
    }
   ],
   "source": [
    "import matplotlib.pyplot as plt\n",
    "\n",
    "#Charges = f ( age )\n",
    "plt.xlabel(\"age\")\n",
    "plt.ylabel(\"charges\")\n",
    "plt.plot(X_test[\"age\"], y_predicted, \"r.\")\n",
    "plt.plot(X_test[\"age\"], y_test, \"g.\")\n",
    "plt.show()"
   ]
  }
 ],
 "metadata": {
  "kernelspec": {
   "display_name": ".venv",
   "language": "python",
   "name": "python3"
  },
  "language_info": {
   "codemirror_mode": {
    "name": "ipython",
    "version": 3
   },
   "file_extension": ".py",
   "mimetype": "text/x-python",
   "name": "python",
   "nbconvert_exporter": "python",
   "pygments_lexer": "ipython3",
   "version": "3.12.3"
  }
 },
 "nbformat": 4,
 "nbformat_minor": 2
}
