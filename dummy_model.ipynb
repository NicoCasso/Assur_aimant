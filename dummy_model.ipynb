{
 "cells": [
  {
   "cell_type": "markdown",
   "metadata": {},
   "source": [
    "# Modele simple"
   ]
  },
  {
   "cell_type": "markdown",
   "metadata": {},
   "source": [
    "dummy model se traduit par \"modèle bête\""
   ]
  },
  {
   "cell_type": "markdown",
   "metadata": {},
   "source": [
    "Première étape : clean data"
   ]
  },
  {
   "cell_type": "code",
   "execution_count": 39,
   "metadata": {},
   "outputs": [],
   "source": [
    "import pandas as pd\n",
    "\n",
    "def clean_data(df : pd.DataFrame) :\n",
    "    dataframe2 = df.copy()\n",
    "   \n",
    "    dataframe2[\"smoker\"] = dataframe2[\"smoker\"].apply( lambda x : 1 if x == \"yes\" else 0)\n",
    "    dataframe2[\"high_bmi\"] = dataframe2[\"bmi\"].apply( lambda x : 1 if x >30 else 0)\n",
    "    dataframe2[\"smoker_high_bmi\"] = dataframe2[\"bmi\"]*dataframe2[\"smoker\"]\n",
    "   \n",
    "    #dataframe2[\"sex\"] = dataframe2[\"sex\"].apply( lambda x : 1 if x == \"male\" else 0)\n",
    "    #dataframe2[\"is_north\"] = dataframe2[\"region\"].apply( lambda x : 1 if str(x).startswith(\"north\") else 0)\n",
    "    #dataframe2[\"is_west\"] = dataframe2[\"region\"].apply( lambda x : 1 if str(x).endswith(\"west\") else 0)\n",
    "\n",
    "    dataframe2 = dataframe2.drop(\"children\", axis=1)\n",
    "    dataframe2 = dataframe2.drop(\"sex\", axis=1)\n",
    "    dataframe2 = dataframe2.drop(\"region\", axis=1)\n",
    "\n",
    "\n",
    "    return dataframe2\n",
    "\n",
    "df_initial = pd.read_csv(\"dataset.csv\", sep=\",\", index_col=False)\n",
    "df_modifie = clean_data(df_initial)\n",
    "df_modifie.to_csv(\"clean_dataset.csv\", index=False)"
   ]
  },
  {
   "cell_type": "markdown",
   "metadata": {},
   "source": [
    "Deuxième étape : split data"
   ]
  },
  {
   "cell_type": "code",
   "execution_count": 40,
   "metadata": {},
   "outputs": [],
   "source": [
    "import sklearn.model_selection as sklms\n",
    "import numpy as np\n",
    "\n",
    "df = pd.read_csv(\"clean_dataset.csv\", sep=\",\", index_col=False)\n",
    "\n",
    "#data_original = np.array(df, dtype=float)\n",
    "y = df['charges']\n",
    "X = df.drop('charges', axis=1)\n",
    "\n",
    "# pour pouvoir comparer le score\n",
    "X_train, X_test, y_train, y_test = sklms.train_test_split(X, y, shuffle=True, train_size=0.85, random_state=42, stratify=X['smoker'])\n"
   ]
  },
  {
   "cell_type": "markdown",
   "metadata": {},
   "source": [
    "Troisième étape : model choice"
   ]
  },
  {
   "cell_type": "code",
   "execution_count": null,
   "metadata": {},
   "outputs": [],
   "source": [
    "import sklearn.linear_model as skllm\n",
    "\n",
    "model = skllm.Lasso(alpha=1)\n",
    "model.fit(X_train, y_train)\n"
   ]
  },
  {
   "cell_type": "code",
   "execution_count": null,
   "metadata": {},
   "outputs": [],
   "source": [
    "#coefficients\n",
    "for i in range(len(X_train.columns.array)):\n",
    "    colname = X_train.columns.array[i]\n",
    "    coeff = model.coef_[i]\n",
    "    print(f\"{colname} : {coeff}\")"
   ]
  },
  {
   "cell_type": "markdown",
   "metadata": {},
   "source": [
    "Quatrième étape : vérification"
   ]
  },
  {
   "cell_type": "code",
   "execution_count": null,
   "metadata": {},
   "outputs": [],
   "source": [
    "score = model.score(X_test, y_test)\n",
    "print(f\"  score  = {score} \")\n",
    "\n",
    "y_predicted = model.predict(X_test)\n",
    "\n",
    "import sklearn.metrics as skl_metrics\n",
    "\n",
    "rmse = skl_metrics.root_mean_squared_error(y_test, y_predicted)\n",
    "Rsquare = skl_metrics.r2_score(y_test, y_predicted)\n",
    "\n",
    "print(f\"r2_score = {Rsquare} \")\n",
    "print(f\"sklearn.metrics.mean_squared_error = {rmse}]\")"
   ]
  },
  {
   "cell_type": "code",
   "execution_count": null,
   "metadata": {},
   "outputs": [],
   "source": [
    "import matplotlib.pyplot as plt\n",
    "\n",
    "#Charges = f ( age )\n",
    "plt.xlabel(\"age\")\n",
    "plt.ylabel(\"charges\")\n",
    "plt.plot(X_test[\"age\"], y_predicted, \"r.\")\n",
    "plt.plot(X_test[\"age\"], y_test, \"g.\")\n",
    "plt.show()"
   ]
  }
 ],
 "metadata": {
  "kernelspec": {
   "display_name": ".venv",
   "language": "python",
   "name": "python3"
  },
  "language_info": {
   "codemirror_mode": {
    "name": "ipython",
    "version": 3
   },
   "file_extension": ".py",
   "mimetype": "text/x-python",
   "name": "python",
   "nbconvert_exporter": "python",
   "pygments_lexer": "ipython3",
   "version": "3.12.3"
  }
 },
 "nbformat": 4,
 "nbformat_minor": 2
}
